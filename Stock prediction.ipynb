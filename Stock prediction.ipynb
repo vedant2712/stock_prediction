{
 "cells": [
  {
   "cell_type": "code",
   "execution_count": 23,
   "id": "36d2553b",
   "metadata": {},
   "outputs": [],
   "source": [
    "import pandas as pd\n",
    "import numpy as np"
   ]
  },
  {
   "cell_type": "code",
   "execution_count": 24,
   "id": "c079c86d",
   "metadata": {},
   "outputs": [
    {
     "data": {
      "text/html": [
       "<div>\n",
       "<style scoped>\n",
       "    .dataframe tbody tr th:only-of-type {\n",
       "        vertical-align: middle;\n",
       "    }\n",
       "\n",
       "    .dataframe tbody tr th {\n",
       "        vertical-align: top;\n",
       "    }\n",
       "\n",
       "    .dataframe thead th {\n",
       "        text-align: right;\n",
       "    }\n",
       "</style>\n",
       "<table border=\"1\" class=\"dataframe\">\n",
       "  <thead>\n",
       "    <tr style=\"text-align: right;\">\n",
       "      <th></th>\n",
       "      <th>Date</th>\n",
       "      <th>Symbol</th>\n",
       "      <th>Series</th>\n",
       "      <th>Prev Close</th>\n",
       "      <th>Open</th>\n",
       "      <th>High</th>\n",
       "      <th>Low</th>\n",
       "      <th>Last</th>\n",
       "      <th>Close</th>\n",
       "      <th>VWAP</th>\n",
       "      <th>Volume</th>\n",
       "      <th>Turnover</th>\n",
       "      <th>Trades</th>\n",
       "      <th>Deliverable Volume</th>\n",
       "      <th>%Deliverble</th>\n",
       "    </tr>\n",
       "  </thead>\n",
       "  <tbody>\n",
       "    <tr>\n",
       "      <th>0</th>\n",
       "      <td>2000-01-03</td>\n",
       "      <td>BAJAUTOFIN</td>\n",
       "      <td>EQ</td>\n",
       "      <td>46.95</td>\n",
       "      <td>49.45</td>\n",
       "      <td>50.75</td>\n",
       "      <td>46.5</td>\n",
       "      <td>50.75</td>\n",
       "      <td>50.75</td>\n",
       "      <td>50.05</td>\n",
       "      <td>7600</td>\n",
       "      <td>3.803800e+10</td>\n",
       "      <td>NaN</td>\n",
       "      <td>NaN</td>\n",
       "      <td>NaN</td>\n",
       "    </tr>\n",
       "    <tr>\n",
       "      <th>1</th>\n",
       "      <td>2000-01-04</td>\n",
       "      <td>BAJAUTOFIN</td>\n",
       "      <td>EQ</td>\n",
       "      <td>50.75</td>\n",
       "      <td>53.20</td>\n",
       "      <td>53.20</td>\n",
       "      <td>47.9</td>\n",
       "      <td>48.00</td>\n",
       "      <td>48.10</td>\n",
       "      <td>48.56</td>\n",
       "      <td>5000</td>\n",
       "      <td>2.428000e+10</td>\n",
       "      <td>NaN</td>\n",
       "      <td>NaN</td>\n",
       "      <td>NaN</td>\n",
       "    </tr>\n",
       "    <tr>\n",
       "      <th>2</th>\n",
       "      <td>2000-01-05</td>\n",
       "      <td>BAJAUTOFIN</td>\n",
       "      <td>EQ</td>\n",
       "      <td>48.10</td>\n",
       "      <td>46.55</td>\n",
       "      <td>47.40</td>\n",
       "      <td>44.6</td>\n",
       "      <td>44.60</td>\n",
       "      <td>44.60</td>\n",
       "      <td>45.47</td>\n",
       "      <td>3500</td>\n",
       "      <td>1.591450e+10</td>\n",
       "      <td>NaN</td>\n",
       "      <td>NaN</td>\n",
       "      <td>NaN</td>\n",
       "    </tr>\n",
       "    <tr>\n",
       "      <th>3</th>\n",
       "      <td>2000-01-06</td>\n",
       "      <td>BAJAUTOFIN</td>\n",
       "      <td>EQ</td>\n",
       "      <td>44.60</td>\n",
       "      <td>43.50</td>\n",
       "      <td>46.00</td>\n",
       "      <td>42.1</td>\n",
       "      <td>46.00</td>\n",
       "      <td>45.25</td>\n",
       "      <td>44.43</td>\n",
       "      <td>6200</td>\n",
       "      <td>2.754750e+10</td>\n",
       "      <td>NaN</td>\n",
       "      <td>NaN</td>\n",
       "      <td>NaN</td>\n",
       "    </tr>\n",
       "    <tr>\n",
       "      <th>4</th>\n",
       "      <td>2000-01-07</td>\n",
       "      <td>BAJAUTOFIN</td>\n",
       "      <td>EQ</td>\n",
       "      <td>45.25</td>\n",
       "      <td>48.00</td>\n",
       "      <td>48.00</td>\n",
       "      <td>42.0</td>\n",
       "      <td>42.90</td>\n",
       "      <td>42.90</td>\n",
       "      <td>44.44</td>\n",
       "      <td>3500</td>\n",
       "      <td>1.555550e+10</td>\n",
       "      <td>NaN</td>\n",
       "      <td>NaN</td>\n",
       "      <td>NaN</td>\n",
       "    </tr>\n",
       "  </tbody>\n",
       "</table>\n",
       "</div>"
      ],
      "text/plain": [
       "         Date      Symbol Series  Prev Close   Open   High   Low   Last  \\\n",
       "0  2000-01-03  BAJAUTOFIN     EQ       46.95  49.45  50.75  46.5  50.75   \n",
       "1  2000-01-04  BAJAUTOFIN     EQ       50.75  53.20  53.20  47.9  48.00   \n",
       "2  2000-01-05  BAJAUTOFIN     EQ       48.10  46.55  47.40  44.6  44.60   \n",
       "3  2000-01-06  BAJAUTOFIN     EQ       44.60  43.50  46.00  42.1  46.00   \n",
       "4  2000-01-07  BAJAUTOFIN     EQ       45.25  48.00  48.00  42.0  42.90   \n",
       "\n",
       "   Close   VWAP  Volume      Turnover  Trades  Deliverable Volume  %Deliverble  \n",
       "0  50.75  50.05    7600  3.803800e+10     NaN                 NaN          NaN  \n",
       "1  48.10  48.56    5000  2.428000e+10     NaN                 NaN          NaN  \n",
       "2  44.60  45.47    3500  1.591450e+10     NaN                 NaN          NaN  \n",
       "3  45.25  44.43    6200  2.754750e+10     NaN                 NaN          NaN  \n",
       "4  42.90  44.44    3500  1.555550e+10     NaN                 NaN          NaN  "
      ]
     },
     "execution_count": 24,
     "metadata": {},
     "output_type": "execute_result"
    }
   ],
   "source": [
    "df=pd.read_csv('C:/Users/vedan/Downloads/BAJFINANCE.csv')\n",
    "df.head()"
   ]
  },
  {
   "cell_type": "code",
   "execution_count": 25,
   "id": "95cd8474",
   "metadata": {},
   "outputs": [],
   "source": [
    "df.set_index('Date',inplace=True)"
   ]
  },
  {
   "cell_type": "code",
   "execution_count": 26,
   "id": "6793cc90",
   "metadata": {},
   "outputs": [
    {
     "data": {
      "text/plain": [
       "<AxesSubplot:xlabel='Date'>"
      ]
     },
     "execution_count": 26,
     "metadata": {},
     "output_type": "execute_result"
    },
    {
     "data": {
      "image/png": "[encoded data removed]",
      "text/plain": [
       "<Figure size 432x288 with 1 Axes>"
      ]
     },
     "metadata": {
      "needs_background": "light"
     },
     "output_type": "display_data"
    }
   ],
   "source": [
    "df['VWAP'].plot()"
   ]
  },
  {
   "cell_type": "code",
   "execution_count": 27,
   "id": "d602ea57",
   "metadata": {},
   "outputs": [
    {
     "data": {
      "text/plain": [
       "Symbol                   0\n",
       "Series                   0\n",
       "Prev Close               0\n",
       "Open                     0\n",
       "High                     0\n",
       "Low                      0\n",
       "Last                     0\n",
       "Close                    0\n",
       "VWAP                     0\n",
       "Volume                   0\n",
       "Turnover                 0\n",
       "Trades                2779\n",
       "Deliverable Volume     446\n",
       "%Deliverble            446\n",
       "dtype: int64"
      ]
     },
     "execution_count": 27,
     "metadata": {},
     "output_type": "execute_result"
    }
   ],
   "source": [
    "df.isna().sum()"
   ]
  },
  {
   "cell_type": "code",
   "execution_count": 29,
   "id": "056bf717",
   "metadata": {},
   "outputs": [
    {
     "data": {
      "text/plain": [
       "Symbol                0\n",
       "Series                0\n",
       "Prev Close            0\n",
       "Open                  0\n",
       "High                  0\n",
       "Low                   0\n",
       "Last                  0\n",
       "Close                 0\n",
       "VWAP                  0\n",
       "Volume                0\n",
       "Turnover              0\n",
       "Trades                0\n",
       "Deliverable Volume    0\n",
       "%Deliverble           0\n",
       "dtype: int64"
      ]
     },
     "execution_count": 29,
     "metadata": {},
     "output_type": "execute_result"
    }
   ],
   "source": [
    "df.dropna(inplace=True)\n",
    "df.isna().sum()"
   ]
  },
  {
   "cell_type": "code",
   "execution_count": 34,
   "id": "f2173c62",
   "metadata": {},
   "outputs": [
    {
     "data": {
      "text/plain": [
       "(2291, 14)"
      ]
     },
     "execution_count": 34,
     "metadata": {},
     "output_type": "execute_result"
    }
   ],
   "source": [
    "data=df.copy()\n",
    "data.shape"
   ]
  },
  {
   "cell_type": "code",
   "execution_count": 35,
   "id": "07888610",
   "metadata": {},
   "outputs": [],
   "source": [
    "data.isna().sum()\n",
    "data.dropna(inplace=True)"
   ]
  },
  {
   "cell_type": "code",
   "execution_count": 36,
   "id": "f909096c",
   "metadata": {},
   "outputs": [
    {
     "data": {
      "text/plain": [
       "Index(['Symbol', 'Series', 'Prev Close', 'Open', 'High', 'Low', 'Last',\n",
       "       'Close', 'VWAP', 'Volume', 'Turnover', 'Trades', 'Deliverable Volume',\n",
       "       '%Deliverble'],\n",
       "      dtype='object')"
      ]
     },
     "execution_count": 36,
     "metadata": {},
     "output_type": "execute_result"
    }
   ],
   "source": [
    "data.columns"
   ]
  },
  {
   "cell_type": "code",
   "execution_count": 37,
   "id": "bd3a75f6",
   "metadata": {},
   "outputs": [],
   "source": [
    "lag_features=['High','Low','Volume','Turnover','Trades']\n",
    "window1=3\n",
    "window2=7"
   ]
  },
  {
   "cell_type": "code",
   "execution_count": 38,
   "id": "e76992d5",
   "metadata": {},
   "outputs": [],
   "source": [
    "for feature in lag_features:\n",
    "    data[feature+'rolling_mean_3']=data[feature].rolling(window=window1).mean()\n",
    "    data[feature+'rolling_mean_7']=data[feature].rolling(window=window2).mean()"
   ]
  },
  {
   "cell_type": "code",
   "execution_count": 39,
   "id": "c077b016",
   "metadata": {},
   "outputs": [],
   "source": [
    "for feature in lag_features:\n",
    "    data[feature+'rolling_std_3']=data[feature].rolling(window=window1).std()\n",
    "    data[feature+'rolling_std_7']=data[feature].rolling(window=window2).std()"
   ]
  },
  {
   "cell_type": "code",
   "execution_count": 61,
   "id": "65d07822",
   "metadata": {},
   "outputs": [
    {
     "data": {
      "text/html": [
       "<div>\n",
       "<style scoped>\n",
       "    .dataframe tbody tr th:only-of-type {\n",
       "        vertical-align: middle;\n",
       "    }\n",
       "\n",
       "    .dataframe tbody tr th {\n",
       "        vertical-align: top;\n",
       "    }\n",
       "\n",
       "    .dataframe thead th {\n",
       "        text-align: right;\n",
       "    }\n",
       "</style>\n",
       "<table border=\"1\" class=\"dataframe\">\n",
       "  <thead>\n",
       "    <tr style=\"text-align: right;\">\n",
       "      <th></th>\n",
       "      <th>Symbol</th>\n",
       "      <th>Series</th>\n",
       "      <th>Prev Close</th>\n",
       "      <th>Open</th>\n",
       "      <th>High</th>\n",
       "      <th>Low</th>\n",
       "      <th>Last</th>\n",
       "      <th>Close</th>\n",
       "      <th>VWAP</th>\n",
       "      <th>Volume</th>\n",
       "      <th>...</th>\n",
       "      <th>Highrolling_std_3</th>\n",
       "      <th>Highrolling_std_7</th>\n",
       "      <th>Lowrolling_std_3</th>\n",
       "      <th>Lowrolling_std_7</th>\n",
       "      <th>Volumerolling_std_3</th>\n",
       "      <th>Volumerolling_std_7</th>\n",
       "      <th>Turnoverrolling_std_3</th>\n",
       "      <th>Turnoverrolling_std_7</th>\n",
       "      <th>Tradesrolling_std_3</th>\n",
       "      <th>Tradesrolling_std_7</th>\n",
       "    </tr>\n",
       "    <tr>\n",
       "      <th>Date</th>\n",
       "      <th></th>\n",
       "      <th></th>\n",
       "      <th></th>\n",
       "      <th></th>\n",
       "      <th></th>\n",
       "      <th></th>\n",
       "      <th></th>\n",
       "      <th></th>\n",
       "      <th></th>\n",
       "      <th></th>\n",
       "      <th></th>\n",
       "      <th></th>\n",
       "      <th></th>\n",
       "      <th></th>\n",
       "      <th></th>\n",
       "      <th></th>\n",
       "      <th></th>\n",
       "      <th></th>\n",
       "      <th></th>\n",
       "      <th></th>\n",
       "      <th></th>\n",
       "    </tr>\n",
       "  </thead>\n",
       "  <tbody>\n",
       "    <tr>\n",
       "      <th>2011-06-09</th>\n",
       "      <td>BAJFINANCE</td>\n",
       "      <td>EQ</td>\n",
       "      <td>635.60</td>\n",
       "      <td>639.80</td>\n",
       "      <td>647.00</td>\n",
       "      <td>630.00</td>\n",
       "      <td>630.00</td>\n",
       "      <td>631.10</td>\n",
       "      <td>638.27</td>\n",
       "      <td>31252</td>\n",
       "      <td>...</td>\n",
       "      <td>12.769789</td>\n",
       "      <td>7.494911</td>\n",
       "      <td>15.011107</td>\n",
       "      <td>9.410145</td>\n",
       "      <td>1.349705e+04</td>\n",
       "      <td>1.837389e+04</td>\n",
       "      <td>8.665128e+11</td>\n",
       "      <td>1.155773e+12</td>\n",
       "      <td>354.841279</td>\n",
       "      <td>463.942320</td>\n",
       "    </tr>\n",
       "    <tr>\n",
       "      <th>2011-06-10</th>\n",
       "      <td>BAJFINANCE</td>\n",
       "      <td>EQ</td>\n",
       "      <td>631.10</td>\n",
       "      <td>641.85</td>\n",
       "      <td>648.25</td>\n",
       "      <td>618.55</td>\n",
       "      <td>621.10</td>\n",
       "      <td>622.20</td>\n",
       "      <td>634.16</td>\n",
       "      <td>30885</td>\n",
       "      <td>...</td>\n",
       "      <td>1.639360</td>\n",
       "      <td>8.227994</td>\n",
       "      <td>13.030765</td>\n",
       "      <td>9.501961</td>\n",
       "      <td>2.434971e+03</td>\n",
       "      <td>1.804733e+04</td>\n",
       "      <td>1.579562e+11</td>\n",
       "      <td>1.136003e+12</td>\n",
       "      <td>272.875429</td>\n",
       "      <td>448.020620</td>\n",
       "    </tr>\n",
       "    <tr>\n",
       "      <th>2011-06-13</th>\n",
       "      <td>BAJFINANCE</td>\n",
       "      <td>EQ</td>\n",
       "      <td>622.20</td>\n",
       "      <td>616.00</td>\n",
       "      <td>627.85</td>\n",
       "      <td>616.00</td>\n",
       "      <td>622.75</td>\n",
       "      <td>624.95</td>\n",
       "      <td>622.92</td>\n",
       "      <td>3981</td>\n",
       "      <td>...</td>\n",
       "      <td>11.434196</td>\n",
       "      <td>9.497080</td>\n",
       "      <td>7.456597</td>\n",
       "      <td>9.298317</td>\n",
       "      <td>1.564005e+04</td>\n",
       "      <td>1.783564e+04</td>\n",
       "      <td>9.982094e+11</td>\n",
       "      <td>1.123423e+12</td>\n",
       "      <td>557.373603</td>\n",
       "      <td>464.778596</td>\n",
       "    </tr>\n",
       "    <tr>\n",
       "      <th>2011-06-14</th>\n",
       "      <td>BAJFINANCE</td>\n",
       "      <td>EQ</td>\n",
       "      <td>624.95</td>\n",
       "      <td>625.00</td>\n",
       "      <td>628.95</td>\n",
       "      <td>619.95</td>\n",
       "      <td>621.20</td>\n",
       "      <td>622.10</td>\n",
       "      <td>625.35</td>\n",
       "      <td>5597</td>\n",
       "      <td>...</td>\n",
       "      <td>11.473593</td>\n",
       "      <td>10.198891</td>\n",
       "      <td>2.002707</td>\n",
       "      <td>9.293713</td>\n",
       "      <td>1.508818e+04</td>\n",
       "      <td>1.313947e+04</td>\n",
       "      <td>9.595224e+11</td>\n",
       "      <td>8.397765e+11</td>\n",
       "      <td>656.385050</td>\n",
       "      <td>455.234163</td>\n",
       "    </tr>\n",
       "    <tr>\n",
       "      <th>2011-06-15</th>\n",
       "      <td>BAJFINANCE</td>\n",
       "      <td>EQ</td>\n",
       "      <td>622.10</td>\n",
       "      <td>612.00</td>\n",
       "      <td>623.00</td>\n",
       "      <td>598.10</td>\n",
       "      <td>605.00</td>\n",
       "      <td>601.70</td>\n",
       "      <td>606.90</td>\n",
       "      <td>12590</td>\n",
       "      <td>...</td>\n",
       "      <td>3.165833</td>\n",
       "      <td>11.352292</td>\n",
       "      <td>11.643560</td>\n",
       "      <td>11.262712</td>\n",
       "      <td>4.575813e+03</td>\n",
       "      <td>1.246914e+04</td>\n",
       "      <td>2.733211e+11</td>\n",
       "      <td>7.983186e+11</td>\n",
       "      <td>150.639747</td>\n",
       "      <td>436.941971</td>\n",
       "    </tr>\n",
       "    <tr>\n",
       "      <th>...</th>\n",
       "      <td>...</td>\n",
       "      <td>...</td>\n",
       "      <td>...</td>\n",
       "      <td>...</td>\n",
       "      <td>...</td>\n",
       "      <td>...</td>\n",
       "      <td>...</td>\n",
       "      <td>...</td>\n",
       "      <td>...</td>\n",
       "      <td>...</td>\n",
       "      <td>...</td>\n",
       "      <td>...</td>\n",
       "      <td>...</td>\n",
       "      <td>...</td>\n",
       "      <td>...</td>\n",
       "      <td>...</td>\n",
       "      <td>...</td>\n",
       "      <td>...</td>\n",
       "      <td>...</td>\n",
       "      <td>...</td>\n",
       "      <td>...</td>\n",
       "    </tr>\n",
       "    <tr>\n",
       "      <th>2020-08-25</th>\n",
       "      <td>BAJFINANCE</td>\n",
       "      <td>EQ</td>\n",
       "      <td>3492.05</td>\n",
       "      <td>3525.00</td>\n",
       "      <td>3660.00</td>\n",
       "      <td>3510.00</td>\n",
       "      <td>3658.00</td>\n",
       "      <td>3642.90</td>\n",
       "      <td>3579.12</td>\n",
       "      <td>9854070</td>\n",
       "      <td>...</td>\n",
       "      <td>111.840660</td>\n",
       "      <td>89.327396</td>\n",
       "      <td>69.777271</td>\n",
       "      <td>61.471880</td>\n",
       "      <td>3.613401e+06</td>\n",
       "      <td>2.348888e+06</td>\n",
       "      <td>1.315344e+15</td>\n",
       "      <td>8.608028e+14</td>\n",
       "      <td>125273.490429</td>\n",
       "      <td>81831.863468</td>\n",
       "    </tr>\n",
       "    <tr>\n",
       "      <th>2020-08-26</th>\n",
       "      <td>BAJFINANCE</td>\n",
       "      <td>EQ</td>\n",
       "      <td>3642.90</td>\n",
       "      <td>3665.00</td>\n",
       "      <td>3707.00</td>\n",
       "      <td>3631.00</td>\n",
       "      <td>3638.20</td>\n",
       "      <td>3645.55</td>\n",
       "      <td>3668.17</td>\n",
       "      <td>6665336</td>\n",
       "      <td>...</td>\n",
       "      <td>100.081633</td>\n",
       "      <td>116.819954</td>\n",
       "      <td>115.027609</td>\n",
       "      <td>100.638138</td>\n",
       "      <td>1.987080e+06</td>\n",
       "      <td>2.403611e+06</td>\n",
       "      <td>7.237865e+14</td>\n",
       "      <td>8.886997e+14</td>\n",
       "      <td>74234.798338</td>\n",
       "      <td>82982.637290</td>\n",
       "    </tr>\n",
       "    <tr>\n",
       "      <th>2020-08-27</th>\n",
       "      <td>BAJFINANCE</td>\n",
       "      <td>EQ</td>\n",
       "      <td>3645.55</td>\n",
       "      <td>3656.95</td>\n",
       "      <td>3668.40</td>\n",
       "      <td>3596.40</td>\n",
       "      <td>3636.00</td>\n",
       "      <td>3632.50</td>\n",
       "      <td>3631.13</td>\n",
       "      <td>4611132</td>\n",
       "      <td>...</td>\n",
       "      <td>25.064982</td>\n",
       "      <td>122.216500</td>\n",
       "      <td>62.320569</td>\n",
       "      <td>111.614377</td>\n",
       "      <td>2.641848e+06</td>\n",
       "      <td>2.408580e+06</td>\n",
       "      <td>9.306171e+14</td>\n",
       "      <td>8.850381e+14</td>\n",
       "      <td>91269.616085</td>\n",
       "      <td>82597.470913</td>\n",
       "    </tr>\n",
       "    <tr>\n",
       "      <th>2020-08-28</th>\n",
       "      <td>BAJFINANCE</td>\n",
       "      <td>EQ</td>\n",
       "      <td>3632.50</td>\n",
       "      <td>3650.00</td>\n",
       "      <td>3688.00</td>\n",
       "      <td>3617.05</td>\n",
       "      <td>3672.05</td>\n",
       "      <td>3670.80</td>\n",
       "      <td>3652.77</td>\n",
       "      <td>4251575</td>\n",
       "      <td>...</td>\n",
       "      <td>19.300777</td>\n",
       "      <td>124.544624</td>\n",
       "      <td>17.407781</td>\n",
       "      <td>119.736752</td>\n",
       "      <td>1.302259e+06</td>\n",
       "      <td>2.404277e+06</td>\n",
       "      <td>4.837586e+14</td>\n",
       "      <td>8.763315e+14</td>\n",
       "      <td>39221.138437</td>\n",
       "      <td>82509.579347</td>\n",
       "    </tr>\n",
       "    <tr>\n",
       "      <th>2020-08-31</th>\n",
       "      <td>BAJFINANCE</td>\n",
       "      <td>EQ</td>\n",
       "      <td>3670.80</td>\n",
       "      <td>3715.00</td>\n",
       "      <td>3749.85</td>\n",
       "      <td>3465.00</td>\n",
       "      <td>3478.50</td>\n",
       "      <td>3487.80</td>\n",
       "      <td>3602.93</td>\n",
       "      <td>8529788</td>\n",
       "      <td>...</td>\n",
       "      <td>42.512126</td>\n",
       "      <td>112.033479</td>\n",
       "      <td>82.473819</td>\n",
       "      <td>103.463256</td>\n",
       "      <td>2.373052e+06</td>\n",
       "      <td>2.517269e+06</td>\n",
       "      <td>8.448489e+14</td>\n",
       "      <td>9.107695e+14</td>\n",
       "      <td>83956.002289</td>\n",
       "      <td>87453.449690</td>\n",
       "    </tr>\n",
       "  </tbody>\n",
       "</table>\n",
       "<p>2285 rows × 34 columns</p>\n",
       "</div>"
      ],
      "text/plain": [
       "                Symbol Series  Prev Close     Open     High      Low     Last  \\\n",
       "Date                                                                            \n",
       "2011-06-09  BAJFINANCE     EQ      635.60   639.80   647.00   630.00   630.00   \n",
       "2011-06-10  BAJFINANCE     EQ      631.10   641.85   648.25   618.55   621.10   \n",
       "2011-06-13  BAJFINANCE     EQ      622.20   616.00   627.85   616.00   622.75   \n",
       "2011-06-14  BAJFINANCE     EQ      624.95   625.00   628.95   619.95   621.20   \n",
       "2011-06-15  BAJFINANCE     EQ      622.10   612.00   623.00   598.10   605.00   \n",
       "...                ...    ...         ...      ...      ...      ...      ...   \n",
       "2020-08-25  BAJFINANCE     EQ     3492.05  3525.00  3660.00  3510.00  3658.00   \n",
       "2020-08-26  BAJFINANCE     EQ     3642.90  3665.00  3707.00  3631.00  3638.20   \n",
       "2020-08-27  BAJFINANCE     EQ     3645.55  3656.95  3668.40  3596.40  3636.00   \n",
       "2020-08-28  BAJFINANCE     EQ     3632.50  3650.00  3688.00  3617.05  3672.05   \n",
       "2020-08-31  BAJFINANCE     EQ     3670.80  3715.00  3749.85  3465.00  3478.50   \n",
       "\n",
       "              Close     VWAP   Volume  ...  Highrolling_std_3  \\\n",
       "Date                                   ...                      \n",
       "2011-06-09   631.10   638.27    31252  ...          12.769789   \n",
       "2011-06-10   622.20   634.16    30885  ...           1.639360   \n",
       "2011-06-13   624.95   622.92     3981  ...          11.434196   \n",
       "2011-06-14   622.10   625.35     5597  ...          11.473593   \n",
       "2011-06-15   601.70   606.90    12590  ...           3.165833   \n",
       "...             ...      ...      ...  ...                ...   \n",
       "2020-08-25  3642.90  3579.12  9854070  ...         111.840660   \n",
       "2020-08-26  3645.55  3668.17  6665336  ...         100.081633   \n",
       "2020-08-27  3632.50  3631.13  4611132  ...          25.064982   \n",
       "2020-08-28  3670.80  3652.77  4251575  ...          19.300777   \n",
       "2020-08-31  3487.80  3602.93  8529788  ...          42.512126   \n",
       "\n",
       "            Highrolling_std_7  Lowrolling_std_3  Lowrolling_std_7  \\\n",
       "Date                                                                \n",
       "2011-06-09           7.494911         15.011107          9.410145   \n",
       "2011-06-10           8.227994         13.030765          9.501961   \n",
       "2011-06-13           9.497080          7.456597          9.298317   \n",
       "2011-06-14          10.198891          2.002707          9.293713   \n",
       "2011-06-15          11.352292         11.643560         11.262712   \n",
       "...                       ...               ...               ...   \n",
       "2020-08-25          89.327396         69.777271         61.471880   \n",
       "2020-08-26         116.819954        115.027609        100.638138   \n",
       "2020-08-27         122.216500         62.320569        111.614377   \n",
       "2020-08-28         124.544624         17.407781        119.736752   \n",
       "2020-08-31         112.033479         82.473819        103.463256   \n",
       "\n",
       "            Volumerolling_std_3  Volumerolling_std_7  Turnoverrolling_std_3  \\\n",
       "Date                                                                          \n",
       "2011-06-09         1.349705e+04         1.837389e+04           8.665128e+11   \n",
       "2011-06-10         2.434971e+03         1.804733e+04           1.579562e+11   \n",
       "2011-06-13         1.564005e+04         1.783564e+04           9.982094e+11   \n",
       "2011-06-14         1.508818e+04         1.313947e+04           9.595224e+11   \n",
       "2011-06-15         4.575813e+03         1.246914e+04           2.733211e+11   \n",
       "...                         ...                  ...                    ...   \n",
       "2020-08-25         3.613401e+06         2.348888e+06           1.315344e+15   \n",
       "2020-08-26         1.987080e+06         2.403611e+06           7.237865e+14   \n",
       "2020-08-27         2.641848e+06         2.408580e+06           9.306171e+14   \n",
       "2020-08-28         1.302259e+06         2.404277e+06           4.837586e+14   \n",
       "2020-08-31         2.373052e+06         2.517269e+06           8.448489e+14   \n",
       "\n",
       "            Turnoverrolling_std_7  Tradesrolling_std_3  Tradesrolling_std_7  \n",
       "Date                                                                         \n",
       "2011-06-09           1.155773e+12           354.841279           463.942320  \n",
       "2011-06-10           1.136003e+12           272.875429           448.020620  \n",
       "2011-06-13           1.123423e+12           557.373603           464.778596  \n",
       "2011-06-14           8.397765e+11           656.385050           455.234163  \n",
       "2011-06-15           7.983186e+11           150.639747           436.941971  \n",
       "...                           ...                  ...                  ...  \n",
       "2020-08-25           8.608028e+14        125273.490429         81831.863468  \n",
       "2020-08-26           8.886997e+14         74234.798338         82982.637290  \n",
       "2020-08-27           8.850381e+14         91269.616085         82597.470913  \n",
       "2020-08-28           8.763315e+14         39221.138437         82509.579347  \n",
       "2020-08-31           9.107695e+14         83956.002289         87453.449690  \n",
       "\n",
       "[2285 rows x 34 columns]"
      ]
     },
     "execution_count": 61,
     "metadata": {},
     "output_type": "execute_result"
    }
   ],
   "source": [
    "data"
   ]
  },
  {
   "cell_type": "code",
   "execution_count": 41,
   "id": "75902502",
   "metadata": {},
   "outputs": [
    {
     "data": {
      "text/plain": [
       "Index(['Symbol', 'Series', 'Prev Close', 'Open', 'High', 'Low', 'Last',\n",
       "       'Close', 'VWAP', 'Volume', 'Turnover', 'Trades', 'Deliverable Volume',\n",
       "       '%Deliverble', 'Highrolling_mean_3', 'Highrolling_mean_7',\n",
       "       'Lowrolling_mean_3', 'Lowrolling_mean_7', 'Volumerolling_mean_3',\n",
       "       'Volumerolling_mean_7', 'Turnoverrolling_mean_3',\n",
       "       'Turnoverrolling_mean_7', 'Tradesrolling_mean_3',\n",
       "       'Tradesrolling_mean_7', 'Highrolling_std_3', 'Highrolling_std_7',\n",
       "       'Lowrolling_std_3', 'Lowrolling_std_7', 'Volumerolling_std_3',\n",
       "       'Volumerolling_std_7', 'Turnoverrolling_std_3', 'Turnoverrolling_std_7',\n",
       "       'Tradesrolling_std_3', 'Tradesrolling_std_7'],\n",
       "      dtype='object')"
      ]
     },
     "execution_count": 41,
     "metadata": {},
     "output_type": "execute_result"
    }
   ],
   "source": [
    "data.columns"
   ]
  },
  {
   "cell_type": "code",
   "execution_count": 42,
   "id": "828a2133",
   "metadata": {},
   "outputs": [
    {
     "data": {
      "text/plain": [
       "(2291, 34)"
      ]
     },
     "execution_count": 42,
     "metadata": {},
     "output_type": "execute_result"
    }
   ],
   "source": [
    "data.shape"
   ]
  },
  {
   "cell_type": "code",
   "execution_count": 44,
   "id": "b41f8822",
   "metadata": {},
   "outputs": [],
   "source": [
    "data.isna().sum()\n",
    "data.dropna(inplace=True)"
   ]
  },
  {
   "cell_type": "code",
   "execution_count": 45,
   "id": "ed116be1",
   "metadata": {},
   "outputs": [],
   "source": [
    "independent=['Highrolling_std_3', 'Highrolling_std_7',\n",
    "       'Lowrolling_std_3', 'Lowrolling_std_7', 'Volumerolling_std_3',\n",
    "       'Volumerolling_std_7', 'Turnoverrolling_std_3', 'Turnoverrolling_std_7',\n",
    "       'Tradesrolling_std_3', 'Tradesrolling_std_7', 'Highrolling_mean_3',\n",
    "       'Highrolling_mean_7', 'Lowrolling_mean_3', 'Lowrolling_mean_7',\n",
    "       'Volumerolling_mean_3', 'Volumerolling_mean_7',\n",
    "       'Turnoverrolling_mean_3', 'Turnoverrolling_mean_7',\n",
    "       'Tradesrolling_mean_3', 'Tradesrolling_mean_7']"
   ]
  },
  {
   "cell_type": "code",
   "execution_count": 46,
   "id": "0521659c",
   "metadata": {},
   "outputs": [],
   "source": [
    "training_data=data[0:1800]\n",
    "testing_data=data[1800:]"
   ]
  },
  {
   "cell_type": "code",
   "execution_count": 17,
   "id": "0b9f9c68",
   "metadata": {},
   "outputs": [
    {
     "name": "stdout",
     "output_type": "stream",
     "text": [
      "Requirement already satisfied: pmdarima in c:\\users\\vedan\\appdata\\roaming\\python\\python38\\site-packages (1.8.2)\n",
      "Requirement already satisfied: scipy>=1.3.2 in c:\\users\\vedan\\anaconda3\\lib\\site-packages (from pmdarima) (1.6.2)\n",
      "Requirement already satisfied: Cython!=0.29.18,>=0.29 in c:\\users\\vedan\\anaconda3\\lib\\site-packages (from pmdarima) (0.29.23)\n",
      "Requirement already satisfied: pandas>=0.19 in c:\\users\\vedan\\anaconda3\\lib\\site-packages (from pmdarima) (1.2.4)\n",
      "Requirement already satisfied: scikit-learn>=0.22 in c:\\users\\vedan\\anaconda3\\lib\\site-packages (from pmdarima) (0.24.1)\n",
      "Requirement already satisfied: setuptools!=50.0.0,>=38.6.0 in c:\\users\\vedan\\anaconda3\\lib\\site-packages (from pmdarima) (52.0.0.post20210125)\n",
      "Requirement already satisfied: urllib3 in c:\\users\\vedan\\anaconda3\\lib\\site-packages (from pmdarima) (1.26.4)\n",
      "Requirement already satisfied: joblib>=0.11 in c:\\users\\vedan\\anaconda3\\lib\\site-packages (from pmdarima) (1.0.1)\n",
      "Requirement already satisfied: numpy~=1.19.0 in c:\\users\\vedan\\anaconda3\\lib\\site-packages (from pmdarima) (1.19.5)\n",
      "Requirement already satisfied: statsmodels!=0.12.0,>=0.11 in c:\\users\\vedan\\anaconda3\\lib\\site-packages (from pmdarima) (0.12.2)\n",
      "Requirement already satisfied: python-dateutil>=2.7.3 in c:\\users\\vedan\\anaconda3\\lib\\site-packages (from pandas>=0.19->pmdarima) (2.8.1)\n",
      "Requirement already satisfied: pytz>=2017.3 in c:\\users\\vedan\\anaconda3\\lib\\site-packages (from pandas>=0.19->pmdarima) (2021.1)\n",
      "Requirement already satisfied: six>=1.5 in c:\\users\\vedan\\anaconda3\\lib\\site-packages (from python-dateutil>=2.7.3->pandas>=0.19->pmdarima) (1.15.0)\n",
      "Requirement already satisfied: threadpoolctl>=2.0.0 in c:\\users\\vedan\\anaconda3\\lib\\site-packages (from scikit-learn>=0.22->pmdarima) (2.1.0)\n",
      "Requirement already satisfied: patsy>=0.5 in c:\\users\\vedan\\anaconda3\\lib\\site-packages (from statsmodels!=0.12.0,>=0.11->pmdarima) (0.5.1)\n"
     ]
    }
   ],
   "source": [
    "!pip install pmdarima --user"
   ]
  },
  {
   "cell_type": "code",
   "execution_count": 47,
   "id": "ecb27fab",
   "metadata": {},
   "outputs": [],
   "source": [
    "from pmdarima import auto_arima"
   ]
  },
  {
   "cell_type": "code",
   "execution_count": 21,
   "id": "1087464e",
   "metadata": {},
   "outputs": [],
   "source": [
    "data.isna().sum()\n",
    "data.dropna(inplace=True)"
   ]
  },
  {
   "cell_type": "code",
   "execution_count": 48,
   "id": "1e54433e",
   "metadata": {
    "scrolled": true
   },
   "outputs": [
    {
     "name": "stdout",
     "output_type": "stream",
     "text": [
      "Performing stepwise search to minimize aic\n",
      " ARIMA(2,0,2)(0,0,0)[0] intercept   : AIC=20931.549, Time=3.01 sec\n",
      " ARIMA(0,0,0)(0,0,0)[0] intercept   : AIC=20925.237, Time=1.87 sec\n",
      " ARIMA(1,0,0)(0,0,0)[0] intercept   : AIC=20926.361, Time=2.04 sec\n",
      " ARIMA(0,0,1)(0,0,0)[0] intercept   : AIC=20926.333, Time=2.59 sec\n",
      " ARIMA(0,0,0)(0,0,0)[0]             : AIC=32616.913, Time=1.76 sec\n",
      " ARIMA(1,0,1)(0,0,0)[0] intercept   : AIC=20929.246, Time=2.69 sec\n",
      "\n",
      "Best model:  ARIMA(0,0,0)(0,0,0)[0] intercept\n",
      "Total fit time: 14.061 seconds\n"
     ]
    },
    {
     "name": "stderr",
     "output_type": "stream",
     "text": [
      "C:\\Users\\vedan\\anaconda3\\lib\\site-packages\\statsmodels\\tsa\\statespace\\sarimax.py:1890: RuntimeWarning: divide by zero encountered in reciprocal\n",
      "  return np.roots(self.polynomial_reduced_ar)**-1\n",
      "C:\\Users\\vedan\\anaconda3\\lib\\site-packages\\statsmodels\\tsa\\statespace\\sarimax.py:1897: RuntimeWarning: divide by zero encountered in reciprocal\n",
      "  return np.roots(self.polynomial_reduced_ma)**-1\n"
     ]
    }
   ],
   "source": [
    "model=auto_arima(y=training_data['VWAP'],exogenous=training_data[independent],trace=True)"
   ]
  },
  {
   "cell_type": "code",
   "execution_count": 49,
   "id": "b75f140c",
   "metadata": {},
   "outputs": [
    {
     "data": {
      "text/plain": [
       "ARIMA(order=(0, 0, 0), scoring_args={}, suppress_warnings=True)"
      ]
     },
     "execution_count": 49,
     "metadata": {},
     "output_type": "execute_result"
    }
   ],
   "source": [
    "model.fit(training_data['VWAP'],training_data[independent])"
   ]
  },
  {
   "cell_type": "code",
   "execution_count": 53,
   "id": "56d1008f",
   "metadata": {},
   "outputs": [
    {
     "name": "stderr",
     "output_type": "stream",
     "text": [
      "C:\\Users\\vedan\\anaconda3\\lib\\site-packages\\statsmodels\\tsa\\base\\tsa_model.py:376: ValueWarning: No supported index is available. Prediction results will be given with an integer index beginning at `start`.\n",
      "  warnings.warn('No supported index is available.'\n"
     ]
    }
   ],
   "source": [
    "forecast=model.predict(n_periods=len(testing_data),exogenous=testing_data[independent])"
   ]
  },
  {
   "cell_type": "code",
   "execution_count": 55,
   "id": "436fc045",
   "metadata": {},
   "outputs": [
    {
     "name": "stderr",
     "output_type": "stream",
     "text": [
      "<ipython-input-55-b5f031c2b811>:1: SettingWithCopyWarning: \n",
      "A value is trying to be set on a copy of a slice from a DataFrame.\n",
      "Try using .loc[row_indexer,col_indexer] = value instead\n",
      "\n",
      "See the caveats in the documentation: https://pandas.pydata.org/pandas-docs/stable/user_guide/indexing.html#returning-a-view-versus-a-copy\n",
      "  testing_data['Forecast_ARIMA']=forecast\n"
     ]
    }
   ],
   "source": [
    "testing_data['Forecast_ARIMA']=forecast"
   ]
  },
  {
   "cell_type": "code",
   "execution_count": 57,
   "id": "ec94a190",
   "metadata": {},
   "outputs": [
    {
     "data": {
      "text/plain": [
       "<AxesSubplot:xlabel='Date'>"
      ]
     },
     "execution_count": 57,
     "metadata": {},
     "output_type": "execute_result"
    },
    {
     "data": {
      "image/png": "[encoded data removed]",
      "text/plain": [
       "<Figure size 1008x504 with 1 Axes>"
      ]
     },
     "metadata": {
      "needs_background": "light"
     },
     "output_type": "display_data"
    }
   ],
   "source": [
    "testing_data[['VWAP','Forecast_ARIMA']].plot(figsize=(14,7))"
   ]
  },
  {
   "cell_type": "code",
   "execution_count": 58,
   "id": "75e12bcd",
   "metadata": {},
   "outputs": [],
   "source": [
    "from sklearn.metrics import mean_absolute_error,mean_squared_error"
   ]
  },
  {
   "cell_type": "code",
   "execution_count": 59,
   "id": "520b2aa9",
   "metadata": {},
   "outputs": [
    {
     "data": {
      "text/plain": [
       "187.9362872543051"
      ]
     },
     "execution_count": 59,
     "metadata": {},
     "output_type": "execute_result"
    }
   ],
   "source": [
    "np.sqrt(mean_squared_error(testing_data['VWAP'],testing_data['Forecast_ARIMA']))"
   ]
  },
  {
   "cell_type": "code",
   "execution_count": 60,
   "id": "1298c50b",
   "metadata": {},
   "outputs": [
    {
     "data": {
      "text/plain": [
       "124.75762174100913"
      ]
     },
     "execution_count": 60,
     "metadata": {},
     "output_type": "execute_result"
    }
   ],
   "source": [
    "mean_absolute_error(testing_data['VWAP'],testing_data['Forecast_ARIMA'])"
   ]
  }
 ],
 "metadata": {
  "kernelspec": {
   "display_name": "Python 3",
   "language": "python",
   "name": "python3"
  },
  "language_info": {
   "codemirror_mode": {
    "name": "ipython",
    "version": 3
   },
   "file_extension": ".py",
   "mimetype": "text/x-python",
   "name": "python",
   "nbconvert_exporter": "python",
   "pygments_lexer": "ipython3",
   "version": "3.8.8"
  }
 },
 "nbformat": 4,
 "nbformat_minor": 5
}
